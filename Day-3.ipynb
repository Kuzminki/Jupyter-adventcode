{
 "cells": [
  {
   "cell_type": "code",
   "execution_count": 142,
   "metadata": {},
   "outputs": [],
   "source": [
    "def Match_Symbol_voisinage(VectorSymbol,currentValeurs):\n",
    "    #renvoie la somme des valeurs qui match\n",
    "    Resultat=0\n",
    "    \n",
    "    for Symbol in VectorSymbol:\n",
    "        if ((Symbol >= currentValeurs[0]-1)&(Symbol<=currentValeurs[1])):\n",
    "            Resultat=int(currentValeurs[2])\n",
    "    return Resultat\n",
    "\n",
    "\n",
    "def Match_LineSymbol_LineValeurs(LineSymbol,LineValeurs):\n",
    "    Resultat=[]\n",
    "    for IndexValeur in range(0,len(LineValeurs)):\n",
    "        CurrentValeur=LineValeurs[IndexValeur]\n",
    "        a= Match_Symbol_voisinage(LineSymbol,CurrentValeur)\n",
    "        Resultat.append(a)\n",
    "    return Resultat\n",
    "    \n",
    "def printStringListeSymbols(ListeSymbols,taillemax):\n",
    "\n",
    "    ChaineSymbols=''\n",
    "    for u in range (0,taillemax):\n",
    "        if u in ListeSymbols:\n",
    "            ChaineSymbols+='|'\n",
    "        else:\n",
    "            ChaineSymbols+='.'\n",
    "    print(ChaineSymbols)\n",
    "    \n",
    "import re\n",
    "\n",
    "\n",
    "\n"
   ]
  },
  {
   "cell_type": "code",
   "execution_count": null,
   "metadata": {},
   "outputs": [],
   "source": [
    "import re\n",
    "f = open(\"day3-input.txt\", \"r\")\n",
    "TableInput=[]\n",
    "for cline in f:\n",
    "    # print(cline)\n",
    "    TableInput.append(cline)\n",
    "print(len(TableInput))\n",
    "    \n",
    "\n"
   ]
  },
  {
   "cell_type": "code",
   "execution_count": null,
   "metadata": {},
   "outputs": [],
   "source": [
    "Struc_Valeurs=[]\n",
    "longLigne=len(TableInput[0])\n",
    "nbLignes=len(TableInput)\n",
    "print(f\"Lignes: {nbLignes}, nbCharactères: {longLigne}\")\n",
    "\n",
    "\n",
    "for cline in TableInput:\n",
    "    # print(cline)\n",
    "    matches=re.finditer(r\"\\b\\d+\\b\",cline)\n",
    "    CurrentMatch=[]\n",
    "    for match in matches:\n",
    "        CurrentMatch.append((match.start(),match.end(),match.group()))\n",
    "    Struc_Valeurs.append(CurrentMatch)\n",
    "\n",
    "\n",
    "Struc_symbols=[]\n",
    "pattern = r\"[^\\d&&^.&&^\\n]\"\n",
    "for cline in TableInput:\n",
    "    # print(cline)\n",
    "    matches=re.finditer(pattern,cline)\n",
    "    CurrentIndexSymbols=[]\n",
    "    for match in matches:\n",
    "        CurrentIndexSymbols.append(match.start())\n",
    "    Struc_symbols.append(CurrentIndexSymbols)\n",
    "i=0\n",
    "for line in TableInput:\n",
    "    print(line[0:-1])\n",
    "    #printStringListeSymbols(Struc_symbols[i],140)\n",
    "    i+=1\n",
    "\n",
    "\n",
    "\n",
    "i=0\n",
    "Resultat=[]\n",
    "\n",
    "for CurrentLineValeurs in Struc_Valeurs:\n",
    "    print(f\"[{i-1},{i+1}] \")\n",
    "    print(TableInput[i][0:-1])\n",
    "\n",
    "    #Creer une liste ListeSymbols sans doublons des symbols se trouvant sur les lignes [i-1, i+1]\n",
    "    ListeSymbols=[]\n",
    "\n",
    "   # i-1\n",
    "    if i>0:\n",
    "        ListeSymbols=ListeSymbols+Struc_symbols[i-1]\n",
    "    #i\n",
    "    ListeSymbols=ListeSymbols+Struc_symbols[i]\n",
    "    \n",
    "    # i+1\n",
    "    if i<(len(Struc_Valeurs)-1):\n",
    "        ListeSymbols=ListeSymbols+Struc_symbols[i+1]\n",
    "    \n",
    "    #supprime les doublons de la liste\n",
    "    ListeSymbols=sorted(list(dict.fromkeys(ListeSymbols)))\n",
    "    printStringListeSymbols(ListeSymbols,longLigne)\n",
    "\n",
    "    CurrentRes=Match_LineSymbol_LineValeurs(ListeSymbols,CurrentLineValeurs)\n",
    "    print(CurrentRes)\n",
    "    Resultat+=(CurrentRes)\n",
    "    \n",
    "    i+=1\n",
    "Resultat=sorted(Resultat)\n",
    "print(Resultat)\n",
    "Resultat=sum(Resultat)\n",
    "print(f\"Resultat: {Resultat}\")\n"
   ]
  },
  {
   "cell_type": "code",
   "execution_count": 113,
   "metadata": {},
   "outputs": [
    {
     "name": "stdout",
     "output_type": "stream",
     "text": [
      "140\n"
     ]
    }
   ],
   "source": [
    "a=\".......12.......935............184.720...243........589.652..........435..........483.............6...........................904...........\"\n",
    "print(len(a))\n"
   ]
  }
 ],
 "metadata": {
  "kernelspec": {
   "display_name": ".venv",
   "language": "python",
   "name": "python3"
  },
  "language_info": {
   "codemirror_mode": {
    "name": "ipython",
    "version": 3
   },
   "file_extension": ".py",
   "mimetype": "text/x-python",
   "name": "python",
   "nbconvert_exporter": "python",
   "pygments_lexer": "ipython3",
   "version": "3.9.6"
  }
 },
 "nbformat": 4,
 "nbformat_minor": 2
}
