{
 "cells": [
  {
   "cell_type": "markdown",
   "metadata": {},
   "source": [
    "# Day 2"
   ]
  },
  {
   "cell_type": "code",
   "execution_count": 11,
   "metadata": {},
   "outputs": [],
   "source": [
    "import re\n",
    "Couleurs={\n",
    "   'red':12,\n",
    "   'green':13,\n",
    "   'blue':14 \n",
    "}\n",
    "\n"
   ]
  },
  {
   "cell_type": "code",
   "execution_count": null,
   "metadata": {},
   "outputs": [],
   "source": [
    "GlobalResult=0\n",
    "f = open(\"day2-input.txt\", \"r\")\n",
    "for cline in f:\n",
    "    cline=cline[:-1] #retire le \\n\n",
    "    print(cline)\n",
    "    GameNum=int(re.split(\" \",re.split(\":\",cline,1)[0])[1])\n",
    "    StrJeux=re.split(\";\",re.split(\":\",cline,1)[1])\n",
    "    for Jeux in StrJeux:\n",
    "        StrResultats=re.split(\",\",Jeux)\n",
    "        for BinResultat in StrResultats:\n",
    "            Resultat=re.split(\" \",BinResultat)\n",
    "            if int(int(Resultat[1])>Couleurs[Resultat[2]]):\n",
    "                print(Resultat[2]+\" \"+str(Resultat[1])+\" > \"+ str(Couleurs[Resultat[2]]))\n",
    "                GameNum=0 # le jeux courant n'est pas ajouté\n",
    "    print(GameNum)\n",
    "    GlobalResult+=GameNum\n",
    "print(\"Resultat: \"+str(GlobalResult))"
   ]
  },
  {
   "cell_type": "code",
   "execution_count": null,
   "metadata": {},
   "outputs": [],
   "source": [
    "GlobalResult=0\n",
    "f = open(\"day2-input.txt\", \"r\")\n",
    "for cline in f:\n",
    "    cline=cline[:-1] #retire le \\n\n",
    "    print(cline)\n",
    "    CurrentRes={\n",
    "        'red':0,\n",
    "        'green':0,\n",
    "        'blue':0\n",
    "    }\n",
    "    GameNum=int(re.split(\" \",re.split(\":\",cline,1)[0])[1])\n",
    "    StrJeux=re.split(\";\",re.split(\":\",cline,1)[1])\n",
    "    for Jeux in StrJeux:\n",
    "        # print(Jeux)\n",
    "        StrResultats=re.split(\",\",Jeux)\n",
    "        for BinResultat in StrResultats:\n",
    "            Resultat=re.split(\" \",BinResultat)\n",
    "            if int(Resultat[1])>CurrentRes[Resultat[2]]:\n",
    "                CurrentRes[Resultat[2]]=int(Resultat[1])\n",
    "    # print(CurrentRes)\n",
    "    print(CurrentRes['red']*CurrentRes['blue']*CurrentRes['green'])\n",
    "    GlobalResult+=CurrentRes['red']*CurrentRes['blue']*CurrentRes['green']\n",
    "print(\"Resultat: \"+str(GlobalResult))"
   ]
  }
 ],
 "metadata": {
  "kernelspec": {
   "display_name": ".venv",
   "language": "python",
   "name": "python3"
  },
  "language_info": {
   "codemirror_mode": {
    "name": "ipython",
    "version": 3
   },
   "file_extension": ".py",
   "mimetype": "text/x-python",
   "name": "python",
   "nbconvert_exporter": "python",
   "pygments_lexer": "ipython3",
   "version": "3.9.6"
  }
 },
 "nbformat": 4,
 "nbformat_minor": 2
}
