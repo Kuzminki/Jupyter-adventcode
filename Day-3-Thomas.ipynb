{
 "cells": [
  {
   "cell_type": "code",
   "execution_count": 1,
   "metadata": {},
   "outputs": [],
   "source": [
    "import re\n",
    "from collections import defaultdict"
   ]
  },
  {
   "cell_type": "code",
   "execution_count": 7,
   "metadata": {},
   "outputs": [],
   "source": [
    "with open('day3-input.txt') as f:\n",
    "    lines = f.read().splitlines()\n"
   ]
  },
  {
   "cell_type": "code",
   "execution_count": 19,
   "metadata": {},
   "outputs": [
    {
     "name": "stdout",
     "output_type": "stream",
     "text": [
      "610157\n"
     ]
    }
   ],
   "source": [
    "total = 0\n",
    "gears = defaultdict(list)\n",
    "\n",
    "GrandTotal=0\n",
    "\n",
    "for l, line in enumerate(lines):\n",
    "    \n",
    "    matches = re.finditer(r\"(\\d+)\", line)\n",
    "    for Nummatch in matches:\n",
    "        GrandTotal+=int(Nummatch.group())\n",
    "\n",
    "\n",
    "    #print(line)\n",
    "\n",
    "    for matchNum, match in enumerate(matches, start=1):\n",
    "\n",
    "        #print(match.group(0))\n",
    "\n",
    "        for i in range(max(0, l -1), min(l + 2 , len(lines))):\n",
    "            for j in range(max(0, match.start() -1), min(match.end() + 1, len(line))):\n",
    "                #print(lines[i][j], end=\"\")\n",
    "                if lines[i][j] not in \".0123456789\":\n",
    "                    total+= int(match.group(0))\n",
    "\n",
    "                if lines[i][j] == \"*\":\n",
    "                    gears[i,j].append(int(match.group(0)))\n",
    "            #print(\"\")\n",
    "print(GrandTotal)"
   ]
  },
  {
   "cell_type": "code",
   "execution_count": 6,
   "metadata": {},
   "outputs": [
    {
     "name": "stdout",
     "output_type": "stream",
     "text": [
      "540025\n"
     ]
    }
   ],
   "source": [
    "# Part 1\n",
    "print(total)"
   ]
  }
 ],
 "metadata": {
  "kernelspec": {
   "display_name": ".venv",
   "language": "python",
   "name": "python3"
  },
  "language_info": {
   "codemirror_mode": {
    "name": "ipython",
    "version": 3
   },
   "file_extension": ".py",
   "mimetype": "text/x-python",
   "name": "python",
   "nbconvert_exporter": "python",
   "pygments_lexer": "ipython3",
   "version": "3.9.6"
  }
 },
 "nbformat": 4,
 "nbformat_minor": 2
}
